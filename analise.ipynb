{
 "cells": [
  {
   "cell_type": "markdown",
   "metadata": {},
   "source": [
    "# **ANÁLISE EXPLORATÓRIA - Produções científicas dos pesquisadores do IFMA**"
   ]
  },
  {
   "cell_type": "markdown",
   "metadata": {},
   "source": [
    "![](https://escolaeducacao.com.br/wp-content/uploads/2018/08/intituto-federal-maranhao-ifma-cursos.png)"
   ]
  },
  {
   "cell_type": "markdown",
   "metadata": {},
   "source": [
    "# IMPORTAÇÃO DAS BIBLIOTECAS\n",
    "Serão utilizadas as bibliotecas: Pandas para visualização e manipulação dos dados e Matplotlib para a criação de gráficos\n"
   ]
  },
  {
   "cell_type": "code",
   "execution_count": 4,
   "metadata": {},
   "outputs": [],
   "source": [
    "import pandas as pd \n",
    "import matplotlib.pyplot as plt"
   ]
  },
  {
   "cell_type": "markdown",
   "metadata": {},
   "source": [
    "# Visualização dos dados\n",
    "Quais são as 5 primeiras e 5 ultimas linhas da tabela?"
   ]
  },
  {
   "cell_type": "code",
   "execution_count": 5,
   "metadata": {},
   "outputs": [
    {
     "data": {
      "text/html": [
       "<div>\n",
       "<style scoped>\n",
       "    .dataframe tbody tr th:only-of-type {\n",
       "        vertical-align: middle;\n",
       "    }\n",
       "\n",
       "    .dataframe tbody tr th {\n",
       "        vertical-align: top;\n",
       "    }\n",
       "\n",
       "    .dataframe thead th {\n",
       "        text-align: right;\n",
       "    }\n",
       "</style>\n",
       "<table border=\"1\" class=\"dataframe\">\n",
       "  <thead>\n",
       "    <tr style=\"text-align: right;\">\n",
       "      <th></th>\n",
       "      <th>#</th>\n",
       "      <th>Matrícula</th>\n",
       "      <th>Nome</th>\n",
       "      <th>E-mail para Contato</th>\n",
       "      <th>Cargo</th>\n",
       "      <th>Funções</th>\n",
       "      <th>Situação</th>\n",
       "      <th>Campus de Lotação</th>\n",
       "      <th>Setor de Lotação</th>\n",
       "      <th>Campus Exercício</th>\n",
       "      <th>Setor Exercício</th>\n",
       "      <th>Campus SUAP</th>\n",
       "      <th>Setor SUAP</th>\n",
       "      <th>Disciplina de Ingresso</th>\n",
       "      <th>Excluído</th>\n",
       "    </tr>\n",
       "  </thead>\n",
       "  <tbody>\n",
       "    <tr>\n",
       "      <th>0</th>\n",
       "      <td>1</td>\n",
       "      <td>2037010</td>\n",
       "      <td>Abel Batista de Oliveira</td>\n",
       "      <td>abel.oliveira@ifma.edu.br</td>\n",
       "      <td>PROFESSOR ENS BASICO TECN TECNOLOGICO (CMEBT) ...</td>\n",
       "      <td>NaN</td>\n",
       "      <td>ATIVO PERMANENTE - 01</td>\n",
       "      <td>ACA ilandia</td>\n",
       "      <td>DDE-ACA</td>\n",
       "      <td>ACA</td>\n",
       "      <td>DE-ACA</td>\n",
       "      <td>ACA</td>\n",
       "      <td>DE-ACA</td>\n",
       "      <td>Ciências Agronômicas</td>\n",
       "      <td>Não</td>\n",
       "    </tr>\n",
       "    <tr>\n",
       "      <th>1</th>\n",
       "      <td>2</td>\n",
       "      <td>1829709</td>\n",
       "      <td>Abias Rodrigues da Cruz</td>\n",
       "      <td>abias.cruz@ifma.edu.br</td>\n",
       "      <td>PROFESSOR ENS BASICO TECN TECNOLOGICO (CMEBT) ...</td>\n",
       "      <td>CD4 - DEPEX-COD:COORDENADOR(A) DE CURSOS \\n</td>\n",
       "      <td>ATIVO PERMANENTE - 01</td>\n",
       "      <td>CODo</td>\n",
       "      <td>DDE-COD</td>\n",
       "      <td>COD</td>\n",
       "      <td>DEPEX-COD</td>\n",
       "      <td>COD</td>\n",
       "      <td>DEPEX-COD</td>\n",
       "      <td>Matemática/Matemática Estatística</td>\n",
       "      <td>Não</td>\n",
       "    </tr>\n",
       "    <tr>\n",
       "      <th>2</th>\n",
       "      <td>3</td>\n",
       "      <td>1825579</td>\n",
       "      <td>Abigail Ferreira Milen</td>\n",
       "      <td>abigail.milen@ifma.edu.br</td>\n",
       "      <td>PROFESSOR ENS BASICO TECN TECNOLOGICO (CMEBT) ...</td>\n",
       "      <td>NaN</td>\n",
       "      <td>ATIVO PERMANENTE - 01</td>\n",
       "      <td>BAC (barra do corda)</td>\n",
       "      <td>CAMP-BAC</td>\n",
       "      <td>BAC</td>\n",
       "      <td>DEN-BAC</td>\n",
       "      <td>BAC</td>\n",
       "      <td>DEN-BAC</td>\n",
       "      <td>Geografia</td>\n",
       "      <td>Não</td>\n",
       "    </tr>\n",
       "    <tr>\n",
       "      <th>3</th>\n",
       "      <td>4</td>\n",
       "      <td>1845623</td>\n",
       "      <td>Abilio Soares Coelho</td>\n",
       "      <td>abilio.coelho@ifma.edu.br</td>\n",
       "      <td>PROFESSOR ENS BASICO TECN TECNOLOGICO (CMEBT) ...</td>\n",
       "      <td>FUC1 - CCSTSI-TMN:COORDENADOR(A) DE CURSOS \\n</td>\n",
       "      <td>ATIVO PERMANENTE - 01</td>\n",
       "      <td>TMN(timon)</td>\n",
       "      <td>CAMP-TMN</td>\n",
       "      <td>TMN</td>\n",
       "      <td>DE-TMN</td>\n",
       "      <td>TMN</td>\n",
       "      <td>CCSTSI-TMN</td>\n",
       "      <td>INFORMÁTICA/SUPORTE DE REDES</td>\n",
       "      <td>Não</td>\n",
       "    </tr>\n",
       "    <tr>\n",
       "      <th>4</th>\n",
       "      <td>5</td>\n",
       "      <td>1487179</td>\n",
       "      <td>Abmalena Santos Sanches</td>\n",
       "      <td>abmalenass@ifma.edu.br</td>\n",
       "      <td>PROFESSOR ENS BASICO TECN TECNOLOGICO (CMEBT) ...</td>\n",
       "      <td>NaN</td>\n",
       "      <td>ATIVO PERMANENTE - 01</td>\n",
       "      <td>ALC(alcantara)</td>\n",
       "      <td>CAMP-ALC</td>\n",
       "      <td>ALC</td>\n",
       "      <td>DE-ALC</td>\n",
       "      <td>ALC</td>\n",
       "      <td>DE-ALC</td>\n",
       "      <td>Sociologia</td>\n",
       "      <td>Não</td>\n",
       "    </tr>\n",
       "  </tbody>\n",
       "</table>\n",
       "</div>"
      ],
      "text/plain": [
       "   #  Matrícula                      Nome        E-mail para Contato  \\\n",
       "0  1    2037010  Abel Batista de Oliveira  abel.oliveira@ifma.edu.br   \n",
       "1  2    1829709   Abias Rodrigues da Cruz     abias.cruz@ifma.edu.br   \n",
       "2  3    1825579    Abigail Ferreira Milen  abigail.milen@ifma.edu.br   \n",
       "3  4    1845623      Abilio Soares Coelho  abilio.coelho@ifma.edu.br   \n",
       "4  5    1487179   Abmalena Santos Sanches     abmalenass@ifma.edu.br   \n",
       "\n",
       "                                               Cargo  \\\n",
       "0  PROFESSOR ENS BASICO TECN TECNOLOGICO (CMEBT) ...   \n",
       "1  PROFESSOR ENS BASICO TECN TECNOLOGICO (CMEBT) ...   \n",
       "2  PROFESSOR ENS BASICO TECN TECNOLOGICO (CMEBT) ...   \n",
       "3  PROFESSOR ENS BASICO TECN TECNOLOGICO (CMEBT) ...   \n",
       "4  PROFESSOR ENS BASICO TECN TECNOLOGICO (CMEBT) ...   \n",
       "\n",
       "                                         Funções               Situação  \\\n",
       "0                                            NaN  ATIVO PERMANENTE - 01   \n",
       "1    CD4 - DEPEX-COD:COORDENADOR(A) DE CURSOS \\n  ATIVO PERMANENTE - 01   \n",
       "2                                            NaN  ATIVO PERMANENTE - 01   \n",
       "3  FUC1 - CCSTSI-TMN:COORDENADOR(A) DE CURSOS \\n  ATIVO PERMANENTE - 01   \n",
       "4                                            NaN  ATIVO PERMANENTE - 01   \n",
       "\n",
       "      Campus de Lotação Setor de Lotação Campus Exercício Setor Exercício  \\\n",
       "0           ACA ilandia          DDE-ACA              ACA          DE-ACA   \n",
       "1                  CODo          DDE-COD              COD       DEPEX-COD   \n",
       "2  BAC (barra do corda)         CAMP-BAC              BAC         DEN-BAC   \n",
       "3            TMN(timon)         CAMP-TMN              TMN          DE-TMN   \n",
       "4        ALC(alcantara)         CAMP-ALC              ALC          DE-ALC   \n",
       "\n",
       "  Campus SUAP  Setor SUAP             Disciplina de Ingresso Excluído  \n",
       "0         ACA      DE-ACA               Ciências Agronômicas      Não  \n",
       "1         COD   DEPEX-COD  Matemática/Matemática Estatística      Não  \n",
       "2         BAC     DEN-BAC                          Geografia      Não  \n",
       "3         TMN  CCSTSI-TMN       INFORMÁTICA/SUPORTE DE REDES      Não  \n",
       "4         ALC      DE-ALC                         Sociologia      Não  "
      ]
     },
     "execution_count": 5,
     "metadata": {},
     "output_type": "execute_result"
    }
   ],
   "source": [
    "tabela = pd.read_excel('dataset.xlsx')\n",
    "tabela.head()"
   ]
  },
  {
   "cell_type": "markdown",
   "metadata": {},
   "source": [
    "# Informações da Tabela\n",
    "Nome e tipo de dados de cada coluna, a quantidade de valores não nulos e o uso de memória."
   ]
  },
  {
   "cell_type": "code",
   "execution_count": 9,
   "metadata": {},
   "outputs": [
    {
     "name": "stdout",
     "output_type": "stream",
     "text": [
      "<class 'pandas.core.frame.DataFrame'>\n",
      "RangeIndex: 3781 entries, 0 to 3780\n",
      "Data columns (total 15 columns):\n",
      " #   Column                  Non-Null Count  Dtype \n",
      "---  ------                  --------------  ----- \n",
      " 0   #                       3781 non-null   int64 \n",
      " 1   Matrícula               3781 non-null   int64 \n",
      " 2   Nome                    3781 non-null   object\n",
      " 3   E-mail para Contato     3717 non-null   object\n",
      " 4   Cargo                   3781 non-null   object\n",
      " 5   Funções                 775 non-null    object\n",
      " 6   Situação                3781 non-null   object\n",
      " 7   Campus de Lotação       3351 non-null   object\n",
      " 8   Setor de Lotação        3781 non-null   object\n",
      " 9   Campus Exercício        3781 non-null   object\n",
      " 10  Setor Exercício         3781 non-null   object\n",
      " 11  Campus SUAP             3578 non-null   object\n",
      " 12  Setor SUAP              3781 non-null   object\n",
      " 13  Disciplina de Ingresso  2393 non-null   object\n",
      " 14  Excluído                3781 non-null   object\n",
      "dtypes: int64(2), object(13)\n",
      "memory usage: 443.2+ KB\n"
     ]
    },
    {
     "data": {
      "text/plain": [
       "None"
      ]
     },
     "metadata": {},
     "output_type": "display_data"
    }
   ],
   "source": [
    "display(tabela.info())"
   ]
  },
  {
   "cell_type": "markdown",
   "metadata": {},
   "source": [
    "**A tabela possui 15 colunas e 3.781 linhas, as colunas de 'E-mail para Contato', 'Funções', 'Campus de Lotação', 'Campus SUAP' e  'Disciplina de Ingresso' possuem linhas sem informações**"
   ]
  },
  {
   "cell_type": "markdown",
   "metadata": {},
   "source": [
    "# Limpeza inicial\n",
    "Remoção dos servidores que constam com o status de \"APOSENTADO\" na coluna \"Situação\""
   ]
  },
  {
   "cell_type": "code",
   "execution_count": 10,
   "metadata": {},
   "outputs": [
    {
     "name": "stdout",
     "output_type": "stream",
     "text": [
      "<class 'pandas.core.frame.DataFrame'>\n",
      "Int64Index: 3437 entries, 0 to 3779\n",
      "Data columns (total 15 columns):\n",
      " #   Column                  Non-Null Count  Dtype \n",
      "---  ------                  --------------  ----- \n",
      " 0   #                       3437 non-null   int64 \n",
      " 1   Matrícula               3437 non-null   int64 \n",
      " 2   Nome                    3437 non-null   object\n",
      " 3   E-mail para Contato     3427 non-null   object\n",
      " 4   Cargo                   3437 non-null   object\n",
      " 5   Funções                 775 non-null    object\n",
      " 6   Situação                3437 non-null   object\n",
      " 7   Campus de Lotação       3351 non-null   object\n",
      " 8   Setor de Lotação        3437 non-null   object\n",
      " 9   Campus Exercício        3437 non-null   object\n",
      " 10  Setor Exercício         3437 non-null   object\n",
      " 11  Campus SUAP             3431 non-null   object\n",
      " 12  Setor SUAP              3437 non-null   object\n",
      " 13  Disciplina de Ingresso  2207 non-null   object\n",
      " 14  Excluído                3437 non-null   object\n",
      "dtypes: int64(2), object(13)\n",
      "memory usage: 429.6+ KB\n"
     ]
    },
    {
     "data": {
      "text/plain": [
       "None"
      ]
     },
     "metadata": {},
     "output_type": "display_data"
    }
   ],
   "source": [
    "tabela = tabela.drop(tabela[tabela['Situação'] == 'APOSENTADO - 02'].index)\n",
    "display(tabela.info())"
   ]
  },
  {
   "cell_type": "markdown",
   "metadata": {},
   "source": [
    "Agora a tabela possui apenas 3.437 linhas, significando que dos 3.781 servidores, 344 são aposentados\n",
    "\n"
   ]
  },
  {
   "cell_type": "markdown",
   "metadata": {},
   "source": [
    "Além do status \"APOSENTADO - 02\", a coluna \"Situação\" também possui os seguintes status:"
   ]
  },
  {
   "cell_type": "code",
   "execution_count": 11,
   "metadata": {},
   "outputs": [
    {
     "data": {
      "text/plain": [
       "ATIVO PERMANENTE - 01        3116\n",
       "CONT.PROF.SUBSTITUTO - 52     206\n",
       "EXERC. 7  ART93 8112 - 44      61\n",
       "ATIVO EM OUTRO ORGAO - 08      24\n",
       "CEDIDO/REQUISITADO - 03         6\n",
       "COLAB PCCTAE E MAGIS - 41       6\n",
       "CONTRATO TEMPORARIO - 12        6\n",
       "EXERCICIO PROVISORIO - 19       5\n",
       "EXCEDENTE A LOTACAO - 11        4\n",
       "EXERC DESCENT CARREI - 18       2\n",
       "CLT ANS -DEC 6657/08 - 43       1\n",
       "Name: Situação, dtype: int64"
      ]
     },
     "metadata": {},
     "output_type": "display_data"
    }
   ],
   "source": [
    "contagemSituacao = tabela['Situação'].value_counts()\n",
    "display(contagemSituacao)"
   ]
  },
  {
   "cell_type": "markdown",
   "metadata": {},
   "source": [
    "Remoção das colunas que não serão utilizadas na análise"
   ]
  },
  {
   "cell_type": "markdown",
   "metadata": {},
   "source": [
    "* Filtros com professores substitutos"
   ]
  },
  {
   "cell_type": "code",
   "execution_count": 12,
   "metadata": {},
   "outputs": [
    {
     "name": "stdout",
     "output_type": "stream",
     "text": [
      "<class 'pandas.core.frame.DataFrame'>\n",
      "Int64Index: 3437 entries, 0 to 3779\n",
      "Data columns (total 15 columns):\n",
      " #   Column                  Non-Null Count  Dtype \n",
      "---  ------                  --------------  ----- \n",
      " 0   #                       3437 non-null   int64 \n",
      " 1   Matrícula               3437 non-null   int64 \n",
      " 2   Nome                    3437 non-null   object\n",
      " 3   E-mail para Contato     3427 non-null   object\n",
      " 4   Cargo                   3437 non-null   object\n",
      " 5   Funções                 775 non-null    object\n",
      " 6   Situação                3437 non-null   object\n",
      " 7   Campus de Lotação       3351 non-null   object\n",
      " 8   Setor de Lotação        3437 non-null   object\n",
      " 9   Campus Exercício        3437 non-null   object\n",
      " 10  Setor Exercício         3437 non-null   object\n",
      " 11  Campus SUAP             3431 non-null   object\n",
      " 12  Setor SUAP              3437 non-null   object\n",
      " 13  Disciplina de Ingresso  2207 non-null   object\n",
      " 14  Excluído                3437 non-null   object\n",
      "dtypes: int64(2), object(13)\n",
      "memory usage: 429.6+ KB\n"
     ]
    },
    {
     "data": {
      "text/plain": [
       "None"
      ]
     },
     "metadata": {},
     "output_type": "display_data"
    }
   ],
   "source": [
    "tabela = tabela.drop(tabela[tabela['Cargo'] == 'CONT.PROF.SUBSTITUTO - 52'].index)\n",
    "display(tabela.info())"
   ]
  },
  {
   "cell_type": "code",
   "execution_count": 20,
   "metadata": {},
   "outputs": [
    {
     "data": {
      "text/html": [
       "<div>\n",
       "<style scoped>\n",
       "    .dataframe tbody tr th:only-of-type {\n",
       "        vertical-align: middle;\n",
       "    }\n",
       "\n",
       "    .dataframe tbody tr th {\n",
       "        vertical-align: top;\n",
       "    }\n",
       "\n",
       "    .dataframe thead th {\n",
       "        text-align: right;\n",
       "    }\n",
       "</style>\n",
       "<table border=\"1\" class=\"dataframe\">\n",
       "  <thead>\n",
       "    <tr style=\"text-align: right;\">\n",
       "      <th></th>\n",
       "      <th>Nome</th>\n",
       "      <th>Cargo</th>\n",
       "      <th>Situação</th>\n",
       "      <th>Campus Exercício</th>\n",
       "    </tr>\n",
       "  </thead>\n",
       "  <tbody>\n",
       "    <tr>\n",
       "      <th>0</th>\n",
       "      <td>Abel Batista de Oliveira</td>\n",
       "      <td>PROFESSOR ENS BASICO TECN TECNOLOGICO (CMEBT) ...</td>\n",
       "      <td>ATIVO PERMANENTE - 01</td>\n",
       "      <td>ACA</td>\n",
       "    </tr>\n",
       "    <tr>\n",
       "      <th>1</th>\n",
       "      <td>Abias Rodrigues da Cruz</td>\n",
       "      <td>PROFESSOR ENS BASICO TECN TECNOLOGICO (CMEBT) ...</td>\n",
       "      <td>ATIVO PERMANENTE - 01</td>\n",
       "      <td>COD</td>\n",
       "    </tr>\n",
       "    <tr>\n",
       "      <th>2</th>\n",
       "      <td>Abigail Ferreira Milen</td>\n",
       "      <td>PROFESSOR ENS BASICO TECN TECNOLOGICO (CMEBT) ...</td>\n",
       "      <td>ATIVO PERMANENTE - 01</td>\n",
       "      <td>BAC</td>\n",
       "    </tr>\n",
       "    <tr>\n",
       "      <th>3</th>\n",
       "      <td>Abilio Soares Coelho</td>\n",
       "      <td>PROFESSOR ENS BASICO TECN TECNOLOGICO (CMEBT) ...</td>\n",
       "      <td>ATIVO PERMANENTE - 01</td>\n",
       "      <td>TMN</td>\n",
       "    </tr>\n",
       "    <tr>\n",
       "      <th>4</th>\n",
       "      <td>Abmalena Santos Sanches</td>\n",
       "      <td>PROFESSOR ENS BASICO TECN TECNOLOGICO (CMEBT) ...</td>\n",
       "      <td>ATIVO PERMANENTE - 01</td>\n",
       "      <td>ALC</td>\n",
       "    </tr>\n",
       "    <tr>\n",
       "      <th>...</th>\n",
       "      <td>...</td>\n",
       "      <td>...</td>\n",
       "      <td>...</td>\n",
       "      <td>...</td>\n",
       "    </tr>\n",
       "    <tr>\n",
       "      <th>3774</th>\n",
       "      <td>Zedequias de Oliveira Campos Junior</td>\n",
       "      <td>TEC DE TECNOLOGIA DA INFORMACAO (PCIFE) - 701226</td>\n",
       "      <td>ATIVO PERMANENTE - 01</td>\n",
       "      <td>TMN</td>\n",
       "    </tr>\n",
       "    <tr>\n",
       "      <th>3775</th>\n",
       "      <td>Zeila Sousa de Albuquerque</td>\n",
       "      <td>PROFESSOR ENS BASICO TECN TECNOLOGICO (CMEBT) ...</td>\n",
       "      <td>ATIVO PERMANENTE - 01</td>\n",
       "      <td>CCH</td>\n",
       "    </tr>\n",
       "    <tr>\n",
       "      <th>3777</th>\n",
       "      <td>Zildiany Ibiapina Meneses</td>\n",
       "      <td>PROF ENS BAS TEC TECNOLOGICO-SUBSTITUTO (CMEBT...</td>\n",
       "      <td>CONT.PROF.SUBSTITUTO - 52</td>\n",
       "      <td>PED</td>\n",
       "    </tr>\n",
       "    <tr>\n",
       "      <th>3778</th>\n",
       "      <td>Zilner Callera</td>\n",
       "      <td>ZOOTECNISTA (PCIFE) - 701085</td>\n",
       "      <td>ATIVO PERMANENTE - 01</td>\n",
       "      <td>GRA</td>\n",
       "    </tr>\n",
       "    <tr>\n",
       "      <th>3779</th>\n",
       "      <td>Zilvania Maria Menezes da Silva Pimentel</td>\n",
       "      <td>BIBLIOTECARIO-DOCUMENTALISTA (PCIFE) - 701010</td>\n",
       "      <td>ATIVO PERMANENTE - 01</td>\n",
       "      <td>SIN</td>\n",
       "    </tr>\n",
       "  </tbody>\n",
       "</table>\n",
       "<p>3437 rows × 4 columns</p>\n",
       "</div>"
      ],
      "text/plain": [
       "                                          Nome  \\\n",
       "0                     Abel Batista de Oliveira   \n",
       "1                      Abias Rodrigues da Cruz   \n",
       "2                       Abigail Ferreira Milen   \n",
       "3                         Abilio Soares Coelho   \n",
       "4                      Abmalena Santos Sanches   \n",
       "...                                        ...   \n",
       "3774       Zedequias de Oliveira Campos Junior   \n",
       "3775                Zeila Sousa de Albuquerque   \n",
       "3777                 Zildiany Ibiapina Meneses   \n",
       "3778                            Zilner Callera   \n",
       "3779  Zilvania Maria Menezes da Silva Pimentel   \n",
       "\n",
       "                                                  Cargo  \\\n",
       "0     PROFESSOR ENS BASICO TECN TECNOLOGICO (CMEBT) ...   \n",
       "1     PROFESSOR ENS BASICO TECN TECNOLOGICO (CMEBT) ...   \n",
       "2     PROFESSOR ENS BASICO TECN TECNOLOGICO (CMEBT) ...   \n",
       "3     PROFESSOR ENS BASICO TECN TECNOLOGICO (CMEBT) ...   \n",
       "4     PROFESSOR ENS BASICO TECN TECNOLOGICO (CMEBT) ...   \n",
       "...                                                 ...   \n",
       "3774   TEC DE TECNOLOGIA DA INFORMACAO (PCIFE) - 701226   \n",
       "3775  PROFESSOR ENS BASICO TECN TECNOLOGICO (CMEBT) ...   \n",
       "3777  PROF ENS BAS TEC TECNOLOGICO-SUBSTITUTO (CMEBT...   \n",
       "3778                       ZOOTECNISTA (PCIFE) - 701085   \n",
       "3779      BIBLIOTECARIO-DOCUMENTALISTA (PCIFE) - 701010   \n",
       "\n",
       "                       Situação Campus Exercício  \n",
       "0         ATIVO PERMANENTE - 01              ACA  \n",
       "1         ATIVO PERMANENTE - 01              COD  \n",
       "2         ATIVO PERMANENTE - 01              BAC  \n",
       "3         ATIVO PERMANENTE - 01              TMN  \n",
       "4         ATIVO PERMANENTE - 01              ALC  \n",
       "...                         ...              ...  \n",
       "3774      ATIVO PERMANENTE - 01              TMN  \n",
       "3775      ATIVO PERMANENTE - 01              CCH  \n",
       "3777  CONT.PROF.SUBSTITUTO - 52              PED  \n",
       "3778      ATIVO PERMANENTE - 01              GRA  \n",
       "3779      ATIVO PERMANENTE - 01              SIN  \n",
       "\n",
       "[3437 rows x 4 columns]"
      ]
     },
     "metadata": {},
     "output_type": "display_data"
    }
   ],
   "source": [
    "tabela2 = tabela.drop(columns=['#','Matrícula','E-mail para Contato','Funções','Campus de Lotação','Setor de Lotação',\n",
    "                               'Setor Exercício','Campus SUAP','Setor SUAP','Disciplina de Ingresso','Excluído'])\n",
    "display(tabela2)"
   ]
  },
  {
   "cell_type": "markdown",
   "metadata": {},
   "source": [
    "# CARGOS\n"
   ]
  },
  {
   "cell_type": "markdown",
   "metadata": {},
   "source": [
    "No total quantos cargos tem de professores e técnicos ?"
   ]
  },
  {
   "cell_type": "code",
   "execution_count": 56,
   "metadata": {},
   "outputs": [
    {
     "name": "stdout",
     "output_type": "stream",
     "text": [
      "                                                 Cargo  count\n",
      "0    PROFESSOR ENS BASICO TECN TECNOLOGICO (CMEBT) ...   1839\n",
      "1         ASSISTENTE EM ADMINISTRACAO (PCIFE) - 701200    348\n",
      "2    PROF ENS BAS TEC TECNOLOGICO-SUBSTITUTO (CMEBT...    206\n",
      "3         TECNICO DE LABORATORIO AREA (PCIFE) - 701244    129\n",
      "4    TECNICO EM ASSUNTOS EDUCACIONAIS (PCIFE) - 701079    110\n",
      "5                 ASSISTENTE DE ALUNO (PCIFE) - 701403     97\n",
      "6      PROFESSOR DO MAGISTERIO SUPERIOR (CMS) - 705001     91\n",
      "7     TEC DE TECNOLOGIA DA INFORMACAO (PCIFE) - 701226     61\n",
      "8                AUX EM ADMINISTRACAO (PCIFE) - 701405     58\n",
      "9                       PEDAGOGO-AREA (PCIFE) - 701058     57\n",
      "10             AUXILIAR DE BIBLIOTECA (PCIFE) - 701409     46\n",
      "11       BIBLIOTECARIO-DOCUMENTALISTA (PCIFE) - 701010     42\n",
      "12                      ADMINISTRADOR (PCIFE) - 701001     39\n",
      "13              TECNICO EM ENFERMAGEM (PCIFE) - 701233     37\n",
      "14                  ASSISTENTE SOCIAL (PCIFE) - 701006     34\n",
      "15   TRADUTOR INTERPRETE DE LINGUAGEM SINAIS (PCIFE...     29\n",
      "16                     PSICOLOGO-AREA (PCIFE) - 701060     29\n",
      "17                        MEDICO-AREA (PCIFE) - 701047     29\n",
      "18            TECNICO EM AGROPECUARIA (PCIFE) - 701214     28\n",
      "19           TECNICO EM CONTABILIDADE (PCIFE) - 701224     27\n",
      "20                           CONTADOR (PCIFE) - 701015     27\n",
      "21                    ENFERMEIRO-AREA (PCIFE) - 701029     25\n",
      "22                          VIGILANTE (PCIFE) - 701269     23\n",
      "23      ANALISTA DE TEC DA INFORMACAO (PCIFE) - 701062     20\n",
      "24                 TECNOLOGO-FORMACAO (PCIFE) - 701081     20\n",
      "25              ODONTOLOGO - 40 HORAS (PCIFE) - 701064     14\n",
      "26                         JORNALISTA (PCIFE) - 701045     12\n",
      "27          NUTRICIONISTA-HABILITACAO (PCIFE) - 701055     12\n",
      "28                    ENGENHEIRO-AREA (PCIFE) - 701031     12\n",
      "29                            AUDITOR (PCIFE) - 701009     11\n",
      "30          REVISOR DE TEXTOS BRAILLE (PCIFE) - 701211     11\n",
      "31                SERVENTE DE LIMPEZA (PCIFE) - 701823      9\n",
      "32                 PROGRAMADOR VISUAL (PCIFE) - 701066      8\n",
      "33                      RECEPCIONISTA (PCIFE) - 701459      7\n",
      "34                          MOTORISTA (PCIFE) - 701445      7\n",
      "35                         COZINHEIRO (PCIFE) - 701422      7\n",
      "36    TRADUTOR INTERPRETE DE LINGUAGEM SINAIS (CDT) -       6\n",
      "37          OPERADOR DE MAQ AGRICOLAS (PCIFE) - 701452      6\n",
      "38            TECNICO EM SECRETARIADO (PCIFE) - 701275      6\n",
      "39   TECNICO EM ALIMENTOS E LATICINIOS (PCIFE) - 70...      5\n",
      "40                           CONTINUO (PCIFE) - 701421      5\n",
      "41      OPERADOR DE MAQ DE LAVANDERIA (PCIFE) - 701828      5\n",
      "42                 MEDICO VETERINARIO (PCIFE) - 701048      5\n",
      "43             TECNICO EM AUDIOVISUAL (PCIFE) - 701221      5\n",
      "44                     AUXILIAR RURAL (PCIFE) - 701801      5\n",
      "45                ENGENHEIRO AGRONOMO (PCIFE) - 701086      4\n",
      "46                           PORTEIRO (PCIFE) - 701458      4\n",
      "47              ARQUITETO E URBANISTA (PCIFE) - 701004      4\n",
      "48            AUXILIAR DE SERV GERAIS (PCIFE) - 701909      4\n",
      "49               EDITOR DE VIDEO-TAPE (PCIFE) - 701916      4\n",
      "50                 TECNICO EM QUIMICA (PCIFE) - 701256      4\n",
      "51                 TECNICO EM ARQUIVO (PCIFE) - 701216      4\n",
      "52                        ZOOTECNISTA (PCIFE) - 701085      4\n",
      "53                         ECONOMISTA (PCIFE) - 701026      3\n",
      "54                           PEDREIRO (PCIFE) - 701649      3\n",
      "55                TECNICO EM MECANICA (PCIFE) - 701245      3\n",
      "56             AUXILIAR DE ENFERMAGEM (PCIFE) - 701411      3\n",
      "57                         ARQUIVISTA (PCIFE) - 701005      3\n",
      "58       TEC EM SEGURANCA DO TRABALHO (PCIFE) - 701262      3\n",
      "59   ASSISTENTE TECNICO ADMINISTRATIVO (PCIFE) - 70...      3\n",
      "60           AUXILIAR DE AGROPECUARIA (PCIFE) - 701611      3\n",
      "61         COORDENADOR DE PROGRAMACAO (PCIFE) - 701913      3\n",
      "62                AUXILIAR DE COZINHA (PCIFE) - 701614      3\n",
      "63             TEC EM TELECOMUNICACAO (PCIFE) - 701264      3\n",
      "64                        TELEFONISTA (PCIFE) - 701464      3\n",
      "65                BOMBEIRO HIDRAULICO (PCIFE) - 701632      2\n",
      "66                   PROCURADOR FEDERAL (AGU) - 600901      2\n",
      "67                         ALMOXARIFE (PCIFE) - 701407      2\n",
      "68                                                   -      2\n",
      "69             TECNICO EM EDIFICACOES (PCIFE) - 701228      2\n",
      "70            AUXILIAR DE LABORATORIO (PCIFE) - 701619      2\n",
      "71                        CARPINTEIRO (PCIFE) - 701627      2\n",
      "72                  OPERADOR DE VIDEO (PCIFE) - 701926      2\n",
      "73                  RELACOES PUBLICAS (PCIFE) - 701072      2\n",
      "74      OPERADOR DE MAQUINA COPIADORA (PCIFE) - 701454      2\n",
      "75   PROF DO ENSINO BASICO TEC TECNOLOGICO (MGBTT) ...      2\n",
      "76                        DIAGRAMADOR (PCIFE) - 701205      2\n",
      "77                        PINTOR-AREA (PCIFE) - 701650      2\n",
      "78        OPERADOR GERADOR CARACTERES (PCIFE) - 701927      2\n",
      "79                  OPERADOR DE AUDIO (PCIFE) - 701922      2\n",
      "80               ECONOMISTA DOMESTICO (PCIFE) - 701027      2\n",
      "81            OPERADOR DE REPROGRAFIA (PCIFE) - 701925      2\n",
      "82   ODONTOLOGO - 30 HORAS - DL 1445-76 (PCIFE) - 7...      2\n",
      "83                  ORIENTADOR DE APRENDIZAGEM (MP) -       2\n",
      "84            TEC EM ELETROELETRONICA (PCIFE) - 701232      2\n",
      "85                         ILUMINADOR (PCIFE) - 701919      2\n",
      "86   AUXILIAR EM ASSUNTOS EDUCACIONAIS (PCIFE) - 70...      2\n",
      "87                OPERADOR DE OFF-SET (PCIFE) - 701924      1\n",
      "88               SECRETARIO EXECUTIVO (PCIFE) - 701076      1\n",
      "89    TECNICO APLICACAO DE RADIOISOTOPOS (NM) - 044084      1\n",
      "90               OPERADOR DE REPROGRAFIA (NA) - 024004      1\n",
      "91                            COPEIRO (PCIFE) - 701633      1\n",
      "92                  DIRETOR DE IMAGEM (PCIFE) - 701022      1\n",
      "93           AUXILIAR DE SERVICOS GERAIS (NM) - 044023      1\n",
      "94     ASSISTENTE TECNICO ADMINISTRATIVO (NM) - 026035      1\n",
      "95               LOCUTOR APRESENTADOR (PCIFE) - 701920      1\n",
      "96                         APOIO IMAGEM (TCO) - 524015      1\n",
      "97       PRODUTOR DE TEXTOS DIDATICOS (PCIFE) - 701929      1\n",
      "98         REPORTAGEM CINEMATOGRAFICA (PCIFE) - 701930      1\n",
      "99            AUXILIAR ADMINISTRATIVO (PCIFE) - 701908      1\n",
      "100                ANALISTA AMBIENTAL (ESPMA) - 428003      1\n",
      "101                OPERADOR DE CAMERA (PCIFE) - 701923      1\n",
      "102   MESTRE DE EDIF E INFRAESTRUTURA (PCIFE) - 701208      1\n",
      "103                ALMOXARIFE TECNICO (PCIFE) - 701901      1\n",
      "104                        MATEMATICO (PCIFE) - 701046      1\n",
      "105                           PADEIRO (PCIFE) - 701648      1\n",
      "106           TECNICO EM ELETRICIDADE (PCIFE) - 701272      1\n",
      "107                      APOIO IMAGEM (PCIFE) - 701902      1\n",
      "108     \\t\\tAUXILIAR DE CONTABILIDADE (INCRA) - 421901      1\n",
      "109       MAQUINISTA ESPECIALIZADO - NI (ANS) - 180191      1\n",
      "110                          MECANICO (PCIFE) - 701441      1\n",
      "111                      CONTRA REGRA (PCIFE) - 701418      1\n",
      "112        AUXILIAR DE ARTES GRAFICAS (PCIFE) - 701657      1\n",
      "113         ASSISTENTE DE LABORATORIO (PCIFE) - 701437      1\n",
      "114              AUXILIAR OPERACIONAL (PCIFE) - 701800      1\n",
      "115            MANOBREIRO DE PATIO - NI (ANS) - 180190      1\n",
      "116                           REGENTE (PCIFE) - 701070      1\n",
      "117                  PROCURADOR FEDERAL (CAJ) - 408001      1\n",
      "118           SUPERVISOR DE OPERACOES (PCIFE) - 701931      1\n",
      "119             ASSISTENTE DE ESTUDIO (PCIFE) - 701904      1\n",
      "120             AUXILIAR DE ENCANADOR (PCIFE) - 701806      1\n",
      "121      DESENHISTA DE ARTES GRAFICAS (PCIFE) - 701204      1\n",
      "122                  AUTOR ROTEIRISTA (PCIFE) - 701907      1\n",
      "123          ASSESSOR DE PLANEJAMENTO (PCIFE) - 701903      1\n",
      "124                         IMPRESSOR (PCIFE) - 701436      1\n",
      "125                \\tPRATICO AGRICOLA (INCRA) - 421903      1\n",
      "126                DIRETOR DE IMAGENS (PCIFE) - 701914      1\n",
      "127             TECNICO EM ELETRONICA (PCIFE) - 701830      1\n",
      "128                 ACERVO E PESQUISA (PCIFE) - 701900      1\n",
      "129          TECNICO EM ELETROTECNICA (PCIFE) - 701230      1\n",
      "130     EDITOR DE VIDEO-TAPE PRODUCAO (PCIFE) - 701917      1\n",
      "131                        MARCENEIRO (PCIFE) - 701640      1\n",
      "132           AUXILIAR DE ELETRICISTA (PCIFE) - 701616      1\n",
      "133        TEC EM MANUT ELETROTECNICA (PCIFE) - 701933      1\n",
      "134                 SERVENTE DE OBRAS (PCIFE) - 701824      1\n",
      "135        PROFESSOR DE 1  E 2  GRAUS (MAGSU) - 060011      1\n",
      "136       OPERADOR DE TELE-IMPRESSORA (PCIFE) - 701647      1\n",
      "137        ADMINISTRADOR DE EDIFICIOS (PCIFE) - 701400      1\n",
      "138       MAQUINISTA ESPECIALIZADO - NA (ANS) - 180181      1\n",
      "139                 MECANICO DE AUTOS (PCIFE) - 701921      1\n",
      "140                          MAQUINISTA (ANS) - 180301      1\n",
      "141                       ELETRICISTA (PCIFE) - 701427      1\n",
      "142                       \\tMOTORISTA (INCRA) - 421902      1\n",
      "143              AUXILIAR DE MAQUINISTA (ANS) - 180530      1\n",
      "144                      CINEGRAFISTA (PCIFE) - 701912      1\n",
      "145              DIRETOR DE PROGRAMAS (PCIFE) - 701915      1\n",
      "146                              CAMERA (TCO) - 524017      1\n"
     ]
    }
   ],
   "source": [
    "contagemCargo = tabela['Cargo'].value_counts().reset_index()\n",
    "print(contagemCargo)"
   ]
  },
  {
   "cell_type": "markdown",
   "metadata": {},
   "source": [
    "Quais os cargos que possuem mais servidores? "
   ]
  },
  {
   "cell_type": "code",
   "execution_count": 13,
   "metadata": {},
   "outputs": [
    {
     "name": "stdout",
     "output_type": "stream",
     "text": [
      "                                               Cargo  count\n",
      "0  PROFESSOR ENS BASICO TECN TECNOLOGICO (CMEBT) ...   1839\n",
      "1       ASSISTENTE EM ADMINISTRACAO (PCIFE) - 701200    348\n",
      "2  PROF ENS BAS TEC TECNOLOGICO-SUBSTITUTO (CMEBT...    206\n",
      "3       TECNICO DE LABORATORIO AREA (PCIFE) - 701244    129\n",
      "4  TECNICO EM ASSUNTOS EDUCACIONAIS (PCIFE) - 701079    110\n",
      "5               ASSISTENTE DE ALUNO (PCIFE) - 701403     97\n",
      "6    PROFESSOR DO MAGISTERIO SUPERIOR (CMS) - 705001     91\n",
      "7   TEC DE TECNOLOGIA DA INFORMACAO (PCIFE) - 701226     61\n",
      "8              AUX EM ADMINISTRACAO (PCIFE) - 701405     58\n",
      "9                     PEDAGOGO-AREA (PCIFE) - 701058     57\n"
     ]
    }
   ],
   "source": [
    "contagemCargo = tabela['Cargo'].value_counts().reset_index()\n",
    "top3_valores = contagemCargo.head(10)\n",
    "print(top3_valores)"
   ]
  },
  {
   "cell_type": "markdown",
   "metadata": {},
   "source": [
    "Quais os cargos mais frequentes?"
   ]
  },
  {
   "cell_type": "code",
   "execution_count": 55,
   "metadata": {},
   "outputs": [
    {
     "data": {
      "image/png": "[encoded data removed]",
      "text/plain": [
       "<Figure size 640x480 with 1 Axes>"
      ]
     },
     "metadata": {},
     "output_type": "display_data"
    }
   ],
   "source": [
    "contagem = tabela['Cargo'].value_counts().head(10)\n",
    "pao = contagem.plot(kind='barh', color='#007F00')\n",
    "plt.title('Cargos mais frequentes')\n",
    "plt.xlabel('Cargo')\n",
    "plt.ylabel('Contagem')\n",
    "plt.show()"
   ]
  },
  {
   "cell_type": "markdown",
   "metadata": {},
   "source": [
    "Qual a distribuição de professores por Campus de Lotação?"
   ]
  },
  {
   "cell_type": "code",
   "execution_count": 11,
   "metadata": {},
   "outputs": [
    {
     "data": {
      "image/png": "[encoded data removed]",
      "text/plain": [
       "<Figure size 1200x1200 with 1 Axes>"
      ]
     },
     "metadata": {},
     "output_type": "display_data"
    }
   ],
   "source": [
    "professores = tabela[tabela['Cargo'] == 'PROFESSOR ENS BASICO TECN TECNOLOGICO (CMEBT) - 707001']\n",
    "setores_professores = professores['Campus de Lotação']\n",
    "porcentagens = setores_professores.value_counts(normalize=True) * 100\n",
    "plt.figure(figsize=(12, 12))\n",
    "ax = porcentagens.plot(kind='barh', color='#007F00')\n",
    "plt.title('Distribuição de Profesores por Campus')\n",
    "plt.xlabel('Campus de Exercício')\n",
    "plt.xticks(rotation=45, ha='right')\n",
    "plt.show()"
   ]
  },
  {
   "cell_type": "markdown",
   "metadata": {},
   "source": [
    "* Distribuição de tecnicos e professores "
   ]
  },
  {
   "cell_type": "code",
   "execution_count": 10,
   "metadata": {},
   "outputs": [
    {
     "data": {
      "image/png": "[encoded data removed]",
      "text/plain": [
       "<Figure size 1000x600 with 1 Axes>"
      ]
     },
     "metadata": {},
     "output_type": "display_data"
    }
   ],
   "source": [
    "condicoes = (tabela['Cargo'] == 'PROFESSOR ENS BASICO TECN TECNOLOGICO (CMEBT) - 707001') | \\\n",
    "           (tabela['Cargo'] == 'TECNICO DE LABORATORIO AREA (PCIFE) - 701244') | \\\n",
    "           (tabela['Cargo'] == 'TEC DE TECNOLOGIA DA INFORMACAO (PCIFE) - 701226')\n",
    "\n",
    "professores = tabela[condicoes]\n",
    "setores_professores = professores['Cargo']\n",
    "porcentagens = setores_professores.value_counts(normalize=True) * 100\n",
    "\n",
    "\n",
    "plt.figure(figsize=(10, 6))\n",
    "ax = porcentagens.plot(kind='barh', color='#007F00')\n",
    "plt.title('Distribuição de Professores e Técnicos')\n",
    "plt.xlabel('Cargos')\n",
    "plt.xticks(rotation=45, ha='right')\n",
    "plt.show()"
   ]
  },
  {
   "cell_type": "markdown",
   "metadata": {},
   "source": [
    "# CAMPUS\n",
    "Quantos Campus o IFMA possui e qual possui o maior número de servidores ativos?\n",
    " "
   ]
  },
  {
   "cell_type": "code",
   "execution_count": 41,
   "metadata": {},
   "outputs": [
    {
     "data": {
      "text/html": [
       "<div>\n",
       "<style scoped>\n",
       "    .dataframe tbody tr th:only-of-type {\n",
       "        vertical-align: middle;\n",
       "    }\n",
       "\n",
       "    .dataframe tbody tr th {\n",
       "        vertical-align: top;\n",
       "    }\n",
       "\n",
       "    .dataframe thead th {\n",
       "        text-align: right;\n",
       "    }\n",
       "</style>\n",
       "<table border=\"1\" class=\"dataframe\">\n",
       "  <thead>\n",
       "    <tr style=\"text-align: right;\">\n",
       "      <th></th>\n",
       "      <th>Campus</th>\n",
       "      <th>Quantidade de Servidores</th>\n",
       "    </tr>\n",
       "  </thead>\n",
       "  <tbody>\n",
       "    <tr>\n",
       "      <th>0</th>\n",
       "      <td>MTC</td>\n",
       "      <td>485</td>\n",
       "    </tr>\n",
       "    <tr>\n",
       "      <th>1</th>\n",
       "      <td>REIT</td>\n",
       "      <td>371</td>\n",
       "    </tr>\n",
       "    <tr>\n",
       "      <th>2</th>\n",
       "      <td>MAR</td>\n",
       "      <td>204</td>\n",
       "    </tr>\n",
       "    <tr>\n",
       "      <th>3</th>\n",
       "      <td>ITZ</td>\n",
       "      <td>189</td>\n",
       "    </tr>\n",
       "    <tr>\n",
       "      <th>4</th>\n",
       "      <td>COD</td>\n",
       "      <td>153</td>\n",
       "    </tr>\n",
       "    <tr>\n",
       "      <th>5</th>\n",
       "      <td>TMN</td>\n",
       "      <td>147</td>\n",
       "    </tr>\n",
       "    <tr>\n",
       "      <th>6</th>\n",
       "      <td>CCH</td>\n",
       "      <td>146</td>\n",
       "    </tr>\n",
       "    <tr>\n",
       "      <th>7</th>\n",
       "      <td>ACA</td>\n",
       "      <td>128</td>\n",
       "    </tr>\n",
       "    <tr>\n",
       "      <th>8</th>\n",
       "      <td>CAX</td>\n",
       "      <td>125</td>\n",
       "    </tr>\n",
       "    <tr>\n",
       "      <th>9</th>\n",
       "      <td>SIN</td>\n",
       "      <td>107</td>\n",
       "    </tr>\n",
       "    <tr>\n",
       "      <th>10</th>\n",
       "      <td>BAC</td>\n",
       "      <td>105</td>\n",
       "    </tr>\n",
       "    <tr>\n",
       "      <th>11</th>\n",
       "      <td>SRM</td>\n",
       "      <td>102</td>\n",
       "    </tr>\n",
       "    <tr>\n",
       "      <th>12</th>\n",
       "      <td>SJP</td>\n",
       "      <td>98</td>\n",
       "    </tr>\n",
       "    <tr>\n",
       "      <th>13</th>\n",
       "      <td>BAR</td>\n",
       "      <td>96</td>\n",
       "    </tr>\n",
       "    <tr>\n",
       "      <th>14</th>\n",
       "      <td>BTC</td>\n",
       "      <td>94</td>\n",
       "    </tr>\n",
       "    <tr>\n",
       "      <th>15</th>\n",
       "      <td>BDC</td>\n",
       "      <td>93</td>\n",
       "    </tr>\n",
       "    <tr>\n",
       "      <th>16</th>\n",
       "      <td>SJR</td>\n",
       "      <td>90</td>\n",
       "    </tr>\n",
       "    <tr>\n",
       "      <th>17</th>\n",
       "      <td>PIN</td>\n",
       "      <td>90</td>\n",
       "    </tr>\n",
       "    <tr>\n",
       "      <th>18</th>\n",
       "      <td>ZDC</td>\n",
       "      <td>86</td>\n",
       "    </tr>\n",
       "    <tr>\n",
       "      <th>19</th>\n",
       "      <td>ALC</td>\n",
       "      <td>83</td>\n",
       "    </tr>\n",
       "    <tr>\n",
       "      <th>20</th>\n",
       "      <td>PED</td>\n",
       "      <td>71</td>\n",
       "    </tr>\n",
       "    <tr>\n",
       "      <th>21</th>\n",
       "      <td>CNT</td>\n",
       "      <td>70</td>\n",
       "    </tr>\n",
       "    <tr>\n",
       "      <th>22</th>\n",
       "      <td>GRA</td>\n",
       "      <td>68</td>\n",
       "    </tr>\n",
       "    <tr>\n",
       "      <th>23</th>\n",
       "      <td>VNA</td>\n",
       "      <td>46</td>\n",
       "    </tr>\n",
       "    <tr>\n",
       "      <th>24</th>\n",
       "      <td>ITA</td>\n",
       "      <td>38</td>\n",
       "    </tr>\n",
       "    <tr>\n",
       "      <th>25</th>\n",
       "      <td>ROS</td>\n",
       "      <td>35</td>\n",
       "    </tr>\n",
       "    <tr>\n",
       "      <th>26</th>\n",
       "      <td>ARA</td>\n",
       "      <td>34</td>\n",
       "    </tr>\n",
       "    <tr>\n",
       "      <th>27</th>\n",
       "      <td>PFR</td>\n",
       "      <td>31</td>\n",
       "    </tr>\n",
       "    <tr>\n",
       "      <th>28</th>\n",
       "      <td>PDU</td>\n",
       "      <td>28</td>\n",
       "    </tr>\n",
       "    <tr>\n",
       "      <th>29</th>\n",
       "      <td>CLN</td>\n",
       "      <td>24</td>\n",
       "    </tr>\n",
       "  </tbody>\n",
       "</table>\n",
       "</div>"
      ],
      "text/plain": [
       "   Campus  Quantidade de Servidores\n",
       "0     MTC                       485\n",
       "1    REIT                       371\n",
       "2     MAR                       204\n",
       "3     ITZ                       189\n",
       "4     COD                       153\n",
       "5     TMN                       147\n",
       "6     CCH                       146\n",
       "7     ACA                       128\n",
       "8     CAX                       125\n",
       "9     SIN                       107\n",
       "10    BAC                       105\n",
       "11    SRM                       102\n",
       "12    SJP                        98\n",
       "13    BAR                        96\n",
       "14    BTC                        94\n",
       "15    BDC                        93\n",
       "16    SJR                        90\n",
       "17    PIN                        90\n",
       "18    ZDC                        86\n",
       "19    ALC                        83\n",
       "20    PED                        71\n",
       "21    CNT                        70\n",
       "22    GRA                        68\n",
       "23    VNA                        46\n",
       "24    ITA                        38\n",
       "25    ROS                        35\n",
       "26    ARA                        34\n",
       "27    PFR                        31\n",
       "28    PDU                        28\n",
       "29    CLN                        24"
      ]
     },
     "metadata": {},
     "output_type": "display_data"
    }
   ],
   "source": [
    "contagemCampus = tabela['Campus de Lotação'].value_counts().reset_index()\n",
    "contagemCampus.columns = ['Campus', 'Quantidade de Servidores']\n",
    "pd.set_option('display.max_rows', None)\n",
    "display(contagemCampus)"
   ]
  },
  {
   "cell_type": "markdown",
   "metadata": {},
   "source": [
    "Quantos campi existem e qual deles possui o maior número de servidores?"
   ]
  },
  {
   "cell_type": "code",
   "execution_count": 6,
   "metadata": {},
   "outputs": [
    {
     "data": {
      "text/plain": [
       "MTC                     492\n",
       "MAR                     204\n",
       "REIT                    201\n",
       "ITZ                     184\n",
       "COD                     174\n",
       "CCH                     143\n",
       "TMN                     136\n",
       "ACA                     124\n",
       "CAX                     122\n",
       "SRM                     119\n",
       "SIN                     110\n",
       "BTC                     107\n",
       "BAC                     106\n",
       "PIN                     106\n",
       "ZDC                     102\n",
       "BDC                     102\n",
       "BAR                     101\n",
       "SJP                     100\n",
       "ALC                      91\n",
       "SJR                      79\n",
       "GRA                      72\n",
       "CNT                      70\n",
       "PED                      69\n",
       "VNA                      48\n",
       "ROS                      36\n",
       "ITA                      35\n",
       "PFR                      31\n",
       "CLN                      29\n",
       "ARA                      28\n",
       "PDU                      25\n",
       "CODo                      1\n",
       "ALC(alcantara)            1\n",
       "TMN(timon)                1\n",
       "BAC (barra do corda)      1\n",
       "ACA ilandia               1\n",
       "Name: Campus de Lotação, dtype: int64"
      ]
     },
     "metadata": {},
     "output_type": "display_data"
    }
   ],
   "source": [
    "contagemCampus = tabela['Campus de Lotação'].value_counts()\n",
    "display(contagemCampus)"
   ]
  },
  {
   "cell_type": "markdown",
   "metadata": {},
   "source": [
    "# CONCLUSÕES\n",
    "- Existem 3.437 servidores ativos, onde 2.136 são professores e 190 são técnicos.\n"
   ]
  }
 ],
 "metadata": {
  "kernelspec": {
   "display_name": "Python 3",
   "language": "python",
   "name": "python3"
  },
  "language_info": {
   "codemirror_mode": {
    "name": "ipython",
    "version": 3
   },
   "file_extension": ".py",
   "mimetype": "text/x-python",
   "name": "python",
   "nbconvert_exporter": "python",
   "pygments_lexer": "ipython3",
   "version": "3.11.6"
  }
 },
 "nbformat": 4,
 "nbformat_minor": 2
}
